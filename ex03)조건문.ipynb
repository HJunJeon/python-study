{
 "cells": [
  {
   "cell_type": "code",
   "execution_count": 2,
   "id": "208c1d6c-3351-4437-8248-088c0ba177ee",
   "metadata": {},
   "outputs": [
    {
     "name": "stdin",
     "output_type": "stream",
     "text": [
      "정수 입력 >> 7\n"
     ]
    },
    {
     "name": "stdout",
     "output_type": "stream",
     "text": [
      "3과 5의 배수가아닙니다.\n"
     ]
    }
   ],
   "source": [
    "num = int(input('정수 입력 >>'))\n",
    "\n",
    "if num%3==0 and num%5==0:\n",
    "    print('3과 5의 배수입니다.')\n",
    "else:\n",
    "    print('3과 5의 배수가아닙니다.')\n"
   ]
  },
  {
   "cell_type": "code",
   "execution_count": 5,
   "id": "290ba73d-d84e-4582-915e-e08c8860c290",
   "metadata": {},
   "outputs": [
    {
     "name": "stdin",
     "output_type": "stream",
     "text": [
      "첫번쨰 정수 입력 >> 53\n",
      "두번쨰 정수 입력 >> 3\n"
     ]
    },
    {
     "name": "stdout",
     "output_type": "stream",
     "text": [
      "첫번째 정수가 더 큽니다.\n"
     ]
    }
   ],
   "source": [
    "num1 = int(input('첫번쨰 정수 입력 >>'))\n",
    "num2 = int(input('두번쨰 정수 입력 >>'))\n",
    "\n",
    "if num1 > num2:\n",
    "    print('첫번째 정수가 더 큽니다.')\n",
    "elif num1 < num2:\n",
    "    print('두번쨰 정수가 더 큽니다.')\n",
    "else:\n",
    "    print('두 수가 똑같습니다.')"
   ]
  },
  {
   "cell_type": "code",
   "execution_count": 1,
   "id": "a065cef8-47ba-4de2-be44-276c24acf5e9",
   "metadata": {},
   "outputs": [
    {
     "name": "stdin",
     "output_type": "stream",
     "text": [
      "점수 입력 >> 90\n"
     ]
    },
    {
     "name": "stdout",
     "output_type": "stream",
     "text": [
      "90점은 A학점 입니다.\n"
     ]
    }
   ],
   "source": [
    "score = int(input('점수 입력 >>'))\n",
    "\n",
    "if score >= 90:\n",
    "    if score <=100:\n",
    "        grade = 'A'\n",
    "        print(f'{score}점은 {grade}학점 입니다.')\n",
    "    else:\n",
    "         print('잘못된 입력입니다.')\n",
    "elif score >= 80:\n",
    "    grade = 'B'\n",
    "    print(f'{score}점은 {grade}학점 입니다.')\n",
    "elif score >= 70:\n",
    "    grade = 'C'\n",
    "    print(f'{score}점은 {grade}학점 입니다.')\n",
    "elif score >= 60:\n",
    "    grade = 'D'\n",
    "    print(f'{score}점은 {grade}학점 입니다.')\n",
    "elif score < 60 :\n",
    "    if score>=0:\n",
    "        grade = 'F'\n",
    "        print(f'{score}점은 {grade}학점 입니다.')\n",
    "    else:\n",
    "        print('잘못된 입력입니다.')"
   ]
  },
  {
   "cell_type": "code",
   "execution_count": 21,
   "id": "913e8eab-42d0-465b-8432-e73e2c2fa421",
   "metadata": {},
   "outputs": [
    {
     "name": "stdin",
     "output_type": "stream",
     "text": [
      "점수 입력 >> 140\n"
     ]
    },
    {
     "name": "stdout",
     "output_type": "stream",
     "text": [
      "잘못된 입력입니다.\n"
     ]
    }
   ],
   "source": [
    "score = int(input('점수 입력 >>'))\n",
    "\n",
    "if score > 100 or score<0:\n",
    "    print('잘못된 입력입니다.')\n",
    "else:\n",
    "    if score <=100:\n",
    "        grade = 'A'\n",
    "    elif score >= 80:\n",
    "        grade = 'B'\n",
    "    elif score >= 70:\n",
    "        grade = 'C'\n",
    "    elif score >= 60:\n",
    "        grade = 'D'\n",
    "    elif score < 60 :\n",
    "        grade = 'F'\n",
    "    print(f'{score}점은 {grade}학점 입니다.')\n",
    "        "
   ]
  },
  {
   "cell_type": "code",
   "execution_count": null,
   "id": "650fff3b-681c-4725-b96c-a53c8393637a",
   "metadata": {},
   "outputs": [],
   "source": []
  },
  {
   "cell_type": "code",
   "execution_count": null,
   "id": "6a369451-a179-490b-af99-78dd800a1b4e",
   "metadata": {},
   "outputs": [],
   "source": []
  },
  {
   "cell_type": "code",
   "execution_count": null,
   "id": "195dca26-4446-4ca7-82b7-e1c4aa700e16",
   "metadata": {},
   "outputs": [],
   "source": []
  },
  {
   "cell_type": "code",
   "execution_count": null,
   "id": "17cab05a-297f-47fb-b2fb-cfac9eda0fab",
   "metadata": {},
   "outputs": [],
   "source": []
  },
  {
   "cell_type": "code",
   "execution_count": null,
   "id": "3e1d4587-d708-49fc-8b56-702e5fbd5c5d",
   "metadata": {},
   "outputs": [],
   "source": []
  },
  {
   "cell_type": "code",
   "execution_count": null,
   "id": "4ee4fcda-be8c-4a6f-b569-dcfa2f6489d5",
   "metadata": {},
   "outputs": [],
   "source": []
  },
  {
   "cell_type": "code",
   "execution_count": null,
   "id": "a05bc7dd-bfcd-4b8e-9924-b33e1d366fad",
   "metadata": {},
   "outputs": [],
   "source": []
  },
  {
   "cell_type": "code",
   "execution_count": null,
   "id": "8a54d877-e0cb-4fbc-b2d0-9908b68e2aa3",
   "metadata": {},
   "outputs": [],
   "source": []
  },
  {
   "cell_type": "code",
   "execution_count": null,
   "id": "e1ee3424-f8fb-4734-bb3c-2b28da1b3ca3",
   "metadata": {},
   "outputs": [],
   "source": []
  },
  {
   "cell_type": "code",
   "execution_count": null,
   "id": "79822fb2-370b-4149-a3c1-c25bfc0a9847",
   "metadata": {},
   "outputs": [],
   "source": []
  },
  {
   "cell_type": "code",
   "execution_count": null,
   "id": "81e2b88e-4cd7-47a9-a76c-28237e660770",
   "metadata": {},
   "outputs": [],
   "source": []
  },
  {
   "cell_type": "code",
   "execution_count": null,
   "id": "34abb54c-ad32-47fb-b064-831b4cf0afdc",
   "metadata": {},
   "outputs": [],
   "source": []
  }
 ],
 "metadata": {
  "kernelspec": {
   "display_name": "Python 3 (ipykernel)",
   "language": "python",
   "name": "python3"
  },
  "language_info": {
   "codemirror_mode": {
    "name": "ipython",
    "version": 3
   },
   "file_extension": ".py",
   "mimetype": "text/x-python",
   "name": "python",
   "nbconvert_exporter": "python",
   "pygments_lexer": "ipython3",
   "version": "3.12.4"
  }
 },
 "nbformat": 4,
 "nbformat_minor": 5
}
