{
 "cells": [
  {
   "cell_type": "markdown",
   "id": "620bd4f8-6505-42f0-aea1-05e0fc50c3c4",
   "metadata": {},
   "source": [
    "# 딕셔너리\n",
    "- 불변한 key, 변화 가능한 value로 맵핑되어 있는 순서가 없는 집합"
   ]
  },
  {
   "cell_type": "code",
   "execution_count": 2,
   "id": "a82dfeac-ed6a-48ac-9efd-601d218abbc2",
   "metadata": {},
   "outputs": [
    {
     "name": "stdout",
     "output_type": "stream",
     "text": [
      "{'name': '전형준', 'age': 20, 'phone': '010-1011-1111'}\n",
      "<class 'dict'>\n"
     ]
    }
   ],
   "source": [
    "dict1 = {'name':'전형준', 'age' :20 , 'phone':'010-1011-1111'}\n",
    "\n",
    "print(dict1)\n",
    "print(type(dict1))"
   ]
  },
  {
   "cell_type": "code",
   "execution_count": 3,
   "id": "54f8f855-80a2-41ce-a44f-d7c72b669edf",
   "metadata": {},
   "outputs": [
    {
     "name": "stdout",
     "output_type": "stream",
     "text": [
      "010-1011-1111\n",
      "20\n",
      "\n",
      "전형준\n"
     ]
    }
   ],
   "source": [
    "# 딕셔너리의 값 가져오기\n",
    "\n",
    "# 딕셔너리는 순서가 없기에 인덱스 번호가 없다\n",
    "# 대신, key 값을 통해서 데이터를 가져옴\n",
    "print(dict1['phone'])\n",
    "print(dict1['age'])\n",
    "\n",
    "print()\n",
    "\n",
    "print(dict1.get('name'))"
   ]
  },
  {
   "cell_type": "code",
   "execution_count": 7,
   "id": "997d22b6-6ce6-4c9f-a7d7-bdba02a3bde5",
   "metadata": {},
   "outputs": [
    {
     "data": {
      "text/plain": [
       "{'name': '전형준', 'age': 21, 'phone': '010-1011-1111'}"
      ]
     },
     "execution_count": 7,
     "metadata": {},
     "output_type": "execute_result"
    }
   ],
   "source": [
    "# 딕셔너리의 값 변경 !!\n",
    "# 키값으로 불러와서 대입\n",
    "dict1['age'] = 21\n",
    "\n",
    "dict1\n"
   ]
  },
  {
   "cell_type": "code",
   "execution_count": 10,
   "id": "16b77c28-4f2f-4d9d-8ae8-f59d1249f0ae",
   "metadata": {},
   "outputs": [
    {
     "data": {
      "text/plain": [
       "{'name': '전형준', 'age': 21, 'phone': '010-1011-1111', 'birth': '12/14'}"
      ]
     },
     "execution_count": 10,
     "metadata": {},
     "output_type": "execute_result"
    }
   ],
   "source": [
    "# 딕셔너리에 값 추가\n",
    "# 기존에 없는 키 값 대입\n",
    "\n",
    "dict1['birth'] = '12/14'\n",
    "\n",
    "dict1"
   ]
  },
  {
   "cell_type": "code",
   "execution_count": 11,
   "id": "aa289a05-2288-46df-8836-0905196fff7e",
   "metadata": {},
   "outputs": [
    {
     "data": {
      "text/plain": [
       "{'name': '전형준', 'phone': '010-1011-1111', 'birth': '12/14'}"
      ]
     },
     "execution_count": 11,
     "metadata": {},
     "output_type": "execute_result"
    }
   ],
   "source": [
    "# 딕셔너리의 값 삭제\n",
    "# del 키워드 사용\n",
    "\n",
    "del dict1['age']\n",
    "\n",
    "dict1"
   ]
  },
  {
   "cell_type": "code",
   "execution_count": 12,
   "id": "3348fafc-b0b6-4d59-b90d-4527a0317f70",
   "metadata": {},
   "outputs": [
    {
     "data": {
      "text/plain": [
       "{}"
      ]
     },
     "execution_count": 12,
     "metadata": {},
     "output_type": "execute_result"
    }
   ],
   "source": [
    "# 딕셔너리 비우기\n",
    "# clear()\n",
    "\n",
    "dict1.clear()\n",
    "dict1"
   ]
  },
  {
   "cell_type": "code",
   "execution_count": 13,
   "id": "090d1cd5-23c7-44ee-a357-6275c805d6a1",
   "metadata": {},
   "outputs": [
    {
     "data": {
      "text/plain": [
       "{'name': '전형준', 'age': 20, 'phone': '010-1011-1111'}"
      ]
     },
     "execution_count": 13,
     "metadata": {},
     "output_type": "execute_result"
    }
   ],
   "source": [
    "dict1 = {'name':'전형준', 'age' :20 , 'phone':'010-1011-1111'}\n",
    "dict1"
   ]
  },
  {
   "cell_type": "code",
   "execution_count": 14,
   "id": "7d523f7d-d6ab-4b2b-be79-312e1b0ed1ce",
   "metadata": {},
   "outputs": [
    {
     "data": {
      "text/plain": [
       "dict_keys(['name', 'age', 'phone'])"
      ]
     },
     "execution_count": 14,
     "metadata": {},
     "output_type": "execute_result"
    }
   ],
   "source": [
    "# 딕셔너리의 keys값만 가져오기\n",
    "\n",
    "dict1.keys()\n"
   ]
  },
  {
   "cell_type": "code",
   "execution_count": 15,
   "id": "6ef83403-1646-488e-b547-f9c34d263809",
   "metadata": {},
   "outputs": [
    {
     "data": {
      "text/plain": [
       "dict_values(['전형준', 20, '010-1011-1111'])"
      ]
     },
     "execution_count": 15,
     "metadata": {},
     "output_type": "execute_result"
    }
   ],
   "source": [
    "# 딕셔너리의 values값 가져오기\n",
    "dict1.values()"
   ]
  },
  {
   "cell_type": "code",
   "execution_count": 16,
   "id": "7e2f69a3-4846-4d40-8965-2f6e633c0ec5",
   "metadata": {},
   "outputs": [
    {
     "data": {
      "text/plain": [
       "{'팀원1': '전형준'}"
      ]
     },
     "execution_count": 16,
     "metadata": {},
     "output_type": "execute_result"
    }
   ],
   "source": [
    "mini = {'팀원1':'전형준'}\n",
    "\n",
    "mini"
   ]
  },
  {
   "cell_type": "code",
   "execution_count": 17,
   "id": "9788a37d-8538-4333-a06b-7ec1b4562a9b",
   "metadata": {},
   "outputs": [
    {
     "data": {
      "text/plain": [
       "{'팀원1': '전형준', '팀원2': '이동진'}"
      ]
     },
     "execution_count": 17,
     "metadata": {},
     "output_type": "execute_result"
    }
   ],
   "source": [
    "mini['팀원2'] = '이동진'\n",
    "mini"
   ]
  },
  {
   "cell_type": "code",
   "execution_count": 20,
   "id": "0e2e9df7-57fe-4f51-89b3-8b6b0e360e1d",
   "metadata": {},
   "outputs": [
    {
     "data": {
      "text/plain": [
       "{'팀원1': '전형준', '팀원2': '이동진', '팀원3': '한창오'}"
      ]
     },
     "execution_count": 20,
     "metadata": {},
     "output_type": "execute_result"
    }
   ],
   "source": [
    "mini['팀원3'] = '한창오'\n",
    "mini"
   ]
  },
  {
   "cell_type": "code",
   "execution_count": 22,
   "id": "80cfc177-11be-4245-bcf6-362805960d7a",
   "metadata": {},
   "outputs": [
    {
     "name": "stdout",
     "output_type": "stream",
     "text": [
      "전형준\n",
      "이동진\n",
      "한창오\n"
     ]
    }
   ],
   "source": [
    "for i in mini.values():\n",
    "    print(i)"
   ]
  },
  {
   "cell_type": "code",
   "execution_count": 23,
   "id": "4b0fd8e1-d418-48a1-811f-6fa6f0dee5a6",
   "metadata": {},
   "outputs": [
    {
     "name": "stdout",
     "output_type": "stream",
     "text": [
      "팀원1\n",
      "팀원2\n",
      "팀원3\n"
     ]
    }
   ],
   "source": [
    "for i in mini.keys():\n",
    "    print(i)"
   ]
  },
  {
   "cell_type": "code",
   "execution_count": null,
   "id": "cf2b8a20-f3bf-417b-8f66-a1b311b20fdb",
   "metadata": {},
   "outputs": [],
   "source": []
  },
  {
   "cell_type": "code",
   "execution_count": null,
   "id": "0269dd21-a1df-4dec-8ae4-2a2f314ec6ff",
   "metadata": {},
   "outputs": [],
   "source": []
  },
  {
   "cell_type": "code",
   "execution_count": null,
   "id": "a5cbc043-736f-46d9-af71-eee4c2abe74f",
   "metadata": {},
   "outputs": [],
   "source": []
  },
  {
   "cell_type": "code",
   "execution_count": null,
   "id": "55a8050c-464c-4134-ba34-dbdbba46a526",
   "metadata": {},
   "outputs": [],
   "source": []
  },
  {
   "cell_type": "code",
   "execution_count": null,
   "id": "f9545153-2670-4e6c-95f6-e3f761c75877",
   "metadata": {},
   "outputs": [],
   "source": []
  },
  {
   "cell_type": "code",
   "execution_count": null,
   "id": "556d0a18-bbb5-4c50-a23a-7fdd12f77890",
   "metadata": {},
   "outputs": [],
   "source": []
  },
  {
   "cell_type": "code",
   "execution_count": null,
   "id": "4d192cfd-fdee-483e-b839-e03c997632de",
   "metadata": {},
   "outputs": [],
   "source": []
  }
 ],
 "metadata": {
  "kernelspec": {
   "display_name": "Python 3 (ipykernel)",
   "language": "python",
   "name": "python3"
  },
  "language_info": {
   "codemirror_mode": {
    "name": "ipython",
    "version": 3
   },
   "file_extension": ".py",
   "mimetype": "text/x-python",
   "name": "python",
   "nbconvert_exporter": "python",
   "pygments_lexer": "ipython3",
   "version": "3.12.4"
  }
 },
 "nbformat": 4,
 "nbformat_minor": 5
}
