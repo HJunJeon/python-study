{
 "cells": [
  {
   "cell_type": "markdown",
   "id": "f03e3586-daf6-4be4-8295-54e89bd0c4ca",
   "metadata": {},
   "source": [
    "# Numpy\n",
    "- 복잡한 빅데이터의 수학적/과학적 계산을 위해 라이브러리\n",
    "- 반복문 없이, 전체 데이터의 배열 연산이 가능한 수학 함수들 제공\n",
    "- 배열 : 같은 자료형의 원소들이 연속적인 형태로 구성된 자료구조"
   ]
  },
  {
   "cell_type": "code",
   "execution_count": 2,
   "id": "a9c2e61c-4e4d-467b-bbc6-095d9d31cbe5",
   "metadata": {},
   "outputs": [],
   "source": [
    "import numpy as np # numpy 라이브러리를 불러오고, 앞으로 np라고 부르겠다"
   ]
  },
  {
   "cell_type": "code",
   "execution_count": 4,
   "id": "eb2a572a-905d-4d34-9d51-1197859bcb7b",
   "metadata": {},
   "outputs": [
    {
     "data": {
      "text/plain": [
       "array([4, 3, 2, 1])"
      ]
     },
     "execution_count": 4,
     "metadata": {},
     "output_type": "execute_result"
    }
   ],
   "source": [
    "arr = np.array([4,3,2,1]) # np안에 있는 array 함수 사용\n",
    "\n",
    "arr "
   ]
  },
  {
   "cell_type": "code",
   "execution_count": 5,
   "id": "059f72f6-bfc1-4cb5-ac62-7cafbb43c6f5",
   "metadata": {},
   "outputs": [
    {
     "data": {
      "text/plain": [
       "numpy.ndarray"
      ]
     },
     "execution_count": 5,
     "metadata": {},
     "output_type": "execute_result"
    }
   ],
   "source": [
    "type(arr)"
   ]
  },
  {
   "cell_type": "code",
   "execution_count": 10,
   "id": "70f116e6-9e6d-4749-85a8-2c674b0e958f",
   "metadata": {},
   "outputs": [
    {
     "data": {
      "text/plain": [
       "array([1., 2., 3., 4.], dtype=float32)"
      ]
     },
     "execution_count": 10,
     "metadata": {},
     "output_type": "execute_result"
    }
   ],
   "source": [
    "list1 = [1,2,3,4]\n",
    "\n",
    "arr = np.array(list1, dtype=np.float32)\n",
    "\n",
    "arr"
   ]
  },
  {
   "cell_type": "code",
   "execution_count": null,
   "id": "9024c2fc-b959-4c72-a529-4858e562649a",
   "metadata": {},
   "outputs": [],
   "source": []
  },
  {
   "cell_type": "code",
   "execution_count": 12,
   "id": "9c15661f-c666-4070-8827-b83511d45ba5",
   "metadata": {},
   "outputs": [
    {
     "data": {
      "text/plain": [
       "[1, 2, 3, 4, 1]"
      ]
     },
     "execution_count": 12,
     "metadata": {},
     "output_type": "execute_result"
    }
   ],
   "source": [
    "# 연산\n",
    "# list의 경우\n",
    "\n",
    "list1 + [1]"
   ]
  },
  {
   "cell_type": "code",
   "execution_count": 13,
   "id": "dedb2707-35a5-4794-b4ab-278a5696547c",
   "metadata": {},
   "outputs": [
    {
     "data": {
      "text/plain": [
       "array([2, 3, 4, 5])"
      ]
     },
     "execution_count": 13,
     "metadata": {},
     "output_type": "execute_result"
    }
   ],
   "source": [
    "# 각각의 요소들에 더해주기 (index +1)\n",
    "arr = np.array(list1)\n",
    "arr+1"
   ]
  },
  {
   "cell_type": "code",
   "execution_count": 14,
   "id": "b55356b9-918f-498a-9eea-efe04bacebcf",
   "metadata": {},
   "outputs": [
    {
     "data": {
      "text/plain": [
       "array([0, 1, 2, 3])"
      ]
     },
     "execution_count": 14,
     "metadata": {},
     "output_type": "execute_result"
    }
   ],
   "source": [
    "arr -1"
   ]
  },
  {
   "cell_type": "code",
   "execution_count": 15,
   "id": "65a2cace-b66a-4f38-9bfc-283ffa5843b6",
   "metadata": {},
   "outputs": [
    {
     "data": {
      "text/plain": [
       "array([0.33333333, 0.66666667, 1.        , 1.33333333])"
      ]
     },
     "execution_count": 15,
     "metadata": {},
     "output_type": "execute_result"
    }
   ],
   "source": [
    "arr / 3"
   ]
  },
  {
   "cell_type": "code",
   "execution_count": 16,
   "id": "6c7b71d5-f424-4dd8-aaa2-dd4c6aef24e0",
   "metadata": {},
   "outputs": [
    {
     "data": {
      "text/plain": [
       "array([1, 2, 3, 4])"
      ]
     },
     "execution_count": 16,
     "metadata": {},
     "output_type": "execute_result"
    }
   ],
   "source": [
    "arr"
   ]
  },
  {
   "cell_type": "code",
   "execution_count": null,
   "id": "fcf76bfb-6846-407b-a100-ff3dbf7a3681",
   "metadata": {},
   "outputs": [],
   "source": []
  },
  {
   "cell_type": "markdown",
   "id": "051ec170-edfb-4d0d-8d15-104afd690ab2",
   "metadata": {},
   "source": [
    "### 배열끼리의 시착연산"
   ]
  },
  {
   "cell_type": "code",
   "execution_count": 18,
   "id": "75c4c256-5224-4341-b243-c7509033f55f",
   "metadata": {},
   "outputs": [],
   "source": [
    "arr1 = np.array([1,2,3])\n",
    "arr2 = np.array([4,5,6])\n",
    "arr3 = np.array([7,8,9,10])"
   ]
  },
  {
   "cell_type": "code",
   "execution_count": 19,
   "id": "1d31eab9-15bd-4998-a780-04210e690ca3",
   "metadata": {},
   "outputs": [
    {
     "data": {
      "text/plain": [
       "array([5, 7, 9])"
      ]
     },
     "execution_count": 19,
     "metadata": {},
     "output_type": "execute_result"
    }
   ],
   "source": [
    "arr1 + arr2 # 각각 대응되는 요소끼리 더해짐"
   ]
  },
  {
   "cell_type": "code",
   "execution_count": null,
   "id": "789e00a5-082b-4f81-b384-45b5cc0765bc",
   "metadata": {},
   "outputs": [],
   "source": [
    "arr1 + arr3 # 이 경우에는 배열의 형태가 달라서 안됨"
   ]
  },
  {
   "cell_type": "code",
   "execution_count": 22,
   "id": "39c90a47-44de-49e4-a468-4eae9db2b240",
   "metadata": {},
   "outputs": [
    {
     "name": "stdout",
     "output_type": "stream",
     "text": [
      "[5 7 9]\n",
      "[3 3 3]\n",
      "[ 4 10 18]\n",
      "[4.  2.5 2. ]\n",
      "[4 2 2]\n",
      "[0 1 0]\n"
     ]
    }
   ],
   "source": [
    "# 배열끼리 여러가지 연산\n",
    "print(arr2 + arr1)\n",
    "print(arr2 - arr1)\n",
    "print(arr2 * arr1)\n",
    "print(arr2 / arr1)\n",
    "print(arr2 // arr1)\n",
    "print(arr2 % arr1)"
   ]
  },
  {
   "cell_type": "code",
   "execution_count": 23,
   "id": "72b956c1-ba9d-4ce1-909e-3dc8fc8df810",
   "metadata": {},
   "outputs": [
    {
     "data": {
      "text/plain": [
       "array([4. , 2.5, 2. ])"
      ]
     },
     "execution_count": 23,
     "metadata": {},
     "output_type": "execute_result"
    }
   ],
   "source": [
    "# 정수와 실수를 같이 넣었을 때\n",
    "\n",
    "arr_f = np.array([4,2.5,2]) # 업케스팅\n",
    "\n",
    "arr_f"
   ]
  },
  {
   "cell_type": "code",
   "execution_count": null,
   "id": "8a396594-28a5-43d0-b922-d3d70059652b",
   "metadata": {},
   "outputs": [],
   "source": []
  },
  {
   "cell_type": "markdown",
   "id": "c06a5f1f-c59c-413a-a912-be48902e68f4",
   "metadata": {},
   "source": [
    "### 문자형 자료가 담겨있는 배열\n"
   ]
  },
  {
   "cell_type": "code",
   "execution_count": 24,
   "id": "4975e16e-508e-4069-8729-e9733f3fc339",
   "metadata": {},
   "outputs": [
    {
     "data": {
      "text/plain": [
       "array(['a', 'b', 'c', 'd'], dtype='<U1')"
      ]
     },
     "execution_count": 24,
     "metadata": {},
     "output_type": "execute_result"
    }
   ],
   "source": [
    "arr_str = np.array(['a','b','c','d'])\n",
    "arr_str"
   ]
  },
  {
   "cell_type": "code",
   "execution_count": 26,
   "id": "82259ac3-3bd7-4bb3-809d-62c83f2be511",
   "metadata": {},
   "outputs": [
    {
     "data": {
      "text/plain": [
       "array(['a', 'b', '3', '4'], dtype='<U1')"
      ]
     },
     "execution_count": 26,
     "metadata": {},
     "output_type": "execute_result"
    }
   ],
   "source": [
    "arr_str2 = np.array(['a','b','3','4'])\n",
    "arr_str2"
   ]
  },
  {
   "cell_type": "code",
   "execution_count": null,
   "id": "abafe868-b158-4708-8f64-e159b313e6ca",
   "metadata": {},
   "outputs": [],
   "source": []
  },
  {
   "cell_type": "markdown",
   "id": "cc51d335-c4d7-4af2-9dbe-be294e40b700",
   "metadata": {},
   "source": [
    "### 2차원 배열\n"
   ]
  },
  {
   "cell_type": "code",
   "execution_count": 28,
   "id": "38ed18a5-6b46-4026-8909-d2f46b2be494",
   "metadata": {},
   "outputs": [
    {
     "data": {
      "text/plain": [
       "array([[1, 2, 3],\n",
       "       [4, 5, 6]])"
      ]
     },
     "execution_count": 28,
     "metadata": {},
     "output_type": "execute_result"
    }
   ],
   "source": [
    "arr2 = np.array([[1,2,3], [4,5,6]])\n",
    "arr2"
   ]
  },
  {
   "cell_type": "code",
   "execution_count": 30,
   "id": "238541d2-dd2b-40af-9ee3-74f4f072e4af",
   "metadata": {},
   "outputs": [
    {
     "data": {
      "text/plain": [
       "2"
      ]
     },
     "execution_count": 30,
     "metadata": {},
     "output_type": "execute_result"
    }
   ],
   "source": [
    "# ndim : 배열의 차원을 확인해주는 함수\n",
    "\n",
    "arr2.ndim"
   ]
  },
  {
   "cell_type": "code",
   "execution_count": 31,
   "id": "eb45431e-d560-4095-bc00-af0cf69eb6da",
   "metadata": {},
   "outputs": [
    {
     "data": {
      "text/plain": [
       "(2, 3)"
      ]
     },
     "execution_count": 31,
     "metadata": {},
     "output_type": "execute_result"
    }
   ],
   "source": [
    "# shape 배열의 형태(행, 열)\n",
    "\n",
    "arr2.shape"
   ]
  },
  {
   "cell_type": "code",
   "execution_count": 33,
   "id": "0d36d5de-aaa9-434d-9e3b-ade4c0fd0d65",
   "metadata": {},
   "outputs": [
    {
     "data": {
      "text/plain": [
       "6"
      ]
     },
     "execution_count": 33,
     "metadata": {},
     "output_type": "execute_result"
    }
   ],
   "source": [
    "# size : 배열의 요소 전체 갯수\n",
    "\n",
    "arr2.size"
   ]
  },
  {
   "cell_type": "code",
   "execution_count": 35,
   "id": "c04d2138-879d-42d7-a936-a1e591f4c50a",
   "metadata": {},
   "outputs": [
    {
     "data": {
      "text/plain": [
       "dtype('int32')"
      ]
     },
     "execution_count": 35,
     "metadata": {},
     "output_type": "execute_result"
    }
   ],
   "source": [
    "# dtype : 배열 내 데이터들의 타입(자료형)\n",
    "arr2.dtype"
   ]
  },
  {
   "attachments": {
    "a41477ef-081a-4e2e-b1a7-ec0dde07b9cb.png": {
     "image/png": "[encoded data removed]"
    }
   },
   "cell_type": "markdown",
   "id": "2a3cb991-ad6d-4f7c-99e7-4cd3718ff404",
   "metadata": {},
   "source": [
    "![image.png](attachment:a41477ef-081a-4e2e-b1a7-ec0dde07b9cb.png)"
   ]
  },
  {
   "cell_type": "code",
   "execution_count": 36,
   "id": "48d070f3-44d1-4e93-bd5b-734bb8811b28",
   "metadata": {},
   "outputs": [
    {
     "data": {
      "text/plain": [
       "array([[[ 1,  2,  3],\n",
       "        [ 4,  5,  6]],\n",
       "\n",
       "       [[ 7,  8,  9],\n",
       "        [10, 11, 12]]])"
      ]
     },
     "execution_count": 36,
     "metadata": {},
     "output_type": "execute_result"
    }
   ],
   "source": [
    "arr3 = np.array([[[1,2,3], [4,5,6]] , [[7,8,9],[10,11,12]]])\n",
    "arr3"
   ]
  },
  {
   "cell_type": "code",
   "execution_count": 39,
   "id": "9465499d-8feb-4584-be91-9431491c4486",
   "metadata": {},
   "outputs": [
    {
     "name": "stdout",
     "output_type": "stream",
     "text": [
      "차원 :  3\n",
      "형태 :  (2, 2, 3)\n",
      "요소 전채 갯수 :  12\n",
      "데이터들의 타입 :  int32\n"
     ]
    }
   ],
   "source": [
    "# 차원\n",
    "print('차원 : ',arr3.ndim)\n",
    "print('형태 : ',arr3.shape)\n",
    "print('요소 전채 갯수 : ',arr3.size)\n",
    "print('데이터들의 타입 : ',arr3.dtype)"
   ]
  },
  {
   "cell_type": "code",
   "execution_count": null,
   "id": "f6a98f16-dede-4dee-928c-d4bd7fa78bd7",
   "metadata": {},
   "outputs": [],
   "source": []
  },
  {
   "cell_type": "code",
   "execution_count": 41,
   "id": "38c157bd-1c77-49ab-b8d0-51b6cbfbb0bb",
   "metadata": {},
   "outputs": [
    {
     "data": {
      "text/plain": [
       "array([[[0., 0.],\n",
       "        [0., 0.],\n",
       "        [0., 0.]],\n",
       "\n",
       "       [[0., 0.],\n",
       "        [0., 0.],\n",
       "        [0., 0.]],\n",
       "\n",
       "       [[0., 0.],\n",
       "        [0., 0.],\n",
       "        [0., 0.]]])"
      ]
     },
     "execution_count": 41,
     "metadata": {},
     "output_type": "execute_result"
    }
   ],
   "source": [
    "# 모든 값을 0으로 넣어서 배열 생성\n",
    "# zero((형태))\n",
    "\n",
    "arr_0 = np.zeros((3,3,2))\n",
    "\n",
    "arr_0"
   ]
  },
  {
   "cell_type": "code",
   "execution_count": 42,
   "id": "b7b7697a-03af-4917-9e0f-fe158a5e1467",
   "metadata": {},
   "outputs": [
    {
     "data": {
      "text/plain": [
       "dtype('float64')"
      ]
     },
     "execution_count": 42,
     "metadata": {},
     "output_type": "execute_result"
    }
   ],
   "source": [
    "arr_0.dtype"
   ]
  },
  {
   "cell_type": "code",
   "execution_count": null,
   "id": "d82b284e-f24b-4e22-b5eb-2d28d750d5aa",
   "metadata": {},
   "outputs": [],
   "source": []
  },
  {
   "cell_type": "code",
   "execution_count": 16,
   "id": "8fd63590-f33f-43eb-84b5-c86d1a2665d2",
   "metadata": {},
   "outputs": [
    {
     "data": {
      "text/plain": [
       "array([[[1, 1, 1],\n",
       "        [1, 1, 1],\n",
       "        [1, 1, 1],\n",
       "        [1, 1, 1]],\n",
       "\n",
       "       [[1, 1, 1],\n",
       "        [1, 1, 1],\n",
       "        [1, 1, 1],\n",
       "        [1, 1, 1]]])"
      ]
     },
     "execution_count": 16,
     "metadata": {},
     "output_type": "execute_result"
    }
   ],
   "source": [
    "#1로 배열 생성\n",
    "# ones\n",
    "\n",
    "arr_1 = np.ones((2,4,3), dtype=np.int32) # 데이터 타입을 정수형으로\n",
    "\n",
    "arr_1"
   ]
  },
  {
   "cell_type": "code",
   "execution_count": null,
   "id": "44c70748-3d1e-4432-9dd5-592daa58515a",
   "metadata": {},
   "outputs": [],
   "source": []
  },
  {
   "cell_type": "code",
   "execution_count": 15,
   "id": "18c18a20-1b73-4ce3-a9a1-b364e48842e2",
   "metadata": {},
   "outputs": [
    {
     "data": {
      "text/plain": [
       "array([[[4., 4.],\n",
       "        [4., 4.],\n",
       "        [4., 4.]],\n",
       "\n",
       "       [[4., 4.],\n",
       "        [4., 4.],\n",
       "        [4., 4.]]], dtype=float32)"
      ]
     },
     "execution_count": 15,
     "metadata": {},
     "output_type": "execute_result"
    }
   ],
   "source": [
    "# 특정 값으로 배열 생성하기\n",
    "# full\n",
    "# np.full((형태), 값)\n",
    "\n",
    "arr_f = np.full((2, 3, 2), 4, dtype=np.float32)\n",
    "arr_f"
   ]
  },
  {
   "cell_type": "code",
   "execution_count": null,
   "id": "9fcd5395-7e8e-4f1b-89c3-289c4d6b6242",
   "metadata": {},
   "outputs": [],
   "source": []
  },
  {
   "cell_type": "code",
   "execution_count": 11,
   "id": "e26b0419-098b-44c6-b8f0-1179c51679fb",
   "metadata": {},
   "outputs": [
    {
     "data": {
      "text/plain": [
       "array([ 1,  4,  7, 10])"
      ]
     },
     "execution_count": 11,
     "metadata": {},
     "output_type": "execute_result"
    }
   ],
   "source": [
    "# np.arange() : range() 시퀀스로 배열 생성\n",
    "# np.arange( 시작할 값, 끝값(포함되지 않음 ) , 증감량)\n",
    "\n",
    "arr_a = np.arange(1,13,3)\n",
    "arr_a"
   ]
  },
  {
   "cell_type": "code",
   "execution_count": 10,
   "id": "520fc9ef-0bed-4ca9-a3ee-7b77770a324b",
   "metadata": {},
   "outputs": [
    {
     "data": {
      "text/plain": [
       "array([ 0,  1,  2,  3,  4,  5,  6,  7,  8,  9, 10, 11])"
      ]
     },
     "execution_count": 10,
     "metadata": {},
     "output_type": "execute_result"
    }
   ],
   "source": [
    "arr_a = np.arange(12)\n",
    "arr_a"
   ]
  },
  {
   "cell_type": "code",
   "execution_count": 20,
   "id": "ef1abdce-6f35-4298-8ac5-9080abf44255",
   "metadata": {},
   "outputs": [
    {
     "ename": "ValueError",
     "evalue": "cannot reshape array of size 4 into shape (3,4)",
     "output_type": "error",
     "traceback": [
      "\u001b[1;31m---------------------------------------------------------------------------\u001b[0m",
      "\u001b[1;31mValueError\u001b[0m                                Traceback (most recent call last)",
      "Cell \u001b[1;32mIn[20], line 4\u001b[0m\n\u001b[0;32m      1\u001b[0m \u001b[38;5;66;03m# reshape : 배열의 형태(shape) 재설정\u001b[39;00m\n\u001b[0;32m      2\u001b[0m \u001b[38;5;66;03m# 3 * 4 = 12\u001b[39;00m\n\u001b[1;32m----> 4\u001b[0m arr_a\u001b[38;5;241m.\u001b[39mreshape(\u001b[38;5;241m3\u001b[39m,\u001b[38;5;241m4\u001b[39m)\n",
      "\u001b[1;31mValueError\u001b[0m: cannot reshape array of size 4 into shape (3,4)"
     ]
    }
   ],
   "source": [
    "# reshape : 배열의 형태(shape) 재설정\n",
    "# 3 * 4 = 12\n",
    "\n",
    "arr_a.reshape(3,4)"
   ]
  },
  {
   "cell_type": "code",
   "execution_count": null,
   "id": "798194cb-aa04-49b5-8344-b1109d17f663",
   "metadata": {},
   "outputs": [],
   "source": []
  },
  {
   "cell_type": "markdown",
   "id": "96210751-c02d-44f9-ac8e-9c7f126e9407",
   "metadata": {},
   "source": [
    "### array의 데이터 접근\n",
    "- array는 리스트와 마찬가지로 인ㄷ, 슬라이싱 가능"
   ]
  },
  {
   "cell_type": "code",
   "execution_count": 25,
   "id": "c977566f-b7d3-467b-9679-7fd2886cd211",
   "metadata": {},
   "outputs": [
    {
     "data": {
      "text/plain": [
       "array([[1, 2, 3],\n",
       "       [4, 5, 6]])"
      ]
     },
     "execution_count": 25,
     "metadata": {},
     "output_type": "execute_result"
    }
   ],
   "source": [
    "arr1 = np.array([[1, 2, 3], [4, 5, 6]])\n",
    "arr1"
   ]
  },
  {
   "cell_type": "code",
   "execution_count": 27,
   "id": "8c2e29a6-92f8-46c9-bad1-53495d65e3f0",
   "metadata": {},
   "outputs": [
    {
     "data": {
      "text/plain": [
       "array([1, 2, 3])"
      ]
     },
     "execution_count": 27,
     "metadata": {},
     "output_type": "execute_result"
    }
   ],
   "source": [
    "arr1[0]"
   ]
  },
  {
   "cell_type": "code",
   "execution_count": 31,
   "id": "631253a6-15e6-469a-ab35-a39526105fb9",
   "metadata": {},
   "outputs": [
    {
     "data": {
      "text/plain": [
       "2"
      ]
     },
     "execution_count": 31,
     "metadata": {},
     "output_type": "execute_result"
    }
   ],
   "source": [
    "# 숫자 2를 인덱싱\n",
    "#array([[1, 2, 3]에서 2를 출력\n",
    "\n",
    "arr1[0][1]"
   ]
  },
  {
   "cell_type": "code",
   "execution_count": null,
   "id": "48eb54c8-fe32-4a36-ae95-d53c02d2771d",
   "metadata": {},
   "outputs": [],
   "source": []
  },
  {
   "cell_type": "code",
   "execution_count": 36,
   "id": "7e897707-81e4-483f-97fc-23d519f55e46",
   "metadata": {},
   "outputs": [
    {
     "name": "stdout",
     "output_type": "stream",
     "text": [
      "변경 전 \n",
      " [[1 2 3]\n",
      " [4 5 6]]\n",
      "변경 후 \n",
      " [[11 12 13]\n",
      " [ 4  5  6]]\n"
     ]
    }
   ],
   "source": [
    "# 인덱싱에서 값을 변경 해보기\n",
    "\n",
    "arr1 = np.array([[1, 2, 3], [4, 5, 6]])\n",
    "print('변경 전 \\n', arr1)\n",
    "\n",
    "# 값 변경\n",
    "\n",
    "arr1[0] = [11,12,13]\n",
    "\n",
    "print('변경 후 \\n', arr1)\n",
    "\n",
    "\n",
    "# 배열의 크기 변경불가\n",
    "# 배열의 원소 구조는 모두 통"
   ]
  },
  {
   "cell_type": "markdown",
   "id": "068d744f-c39d-4b11-94cf-e59a18bbc58b",
   "metadata": {},
   "source": [
    "### 슬라이싱"
   ]
  },
  {
   "cell_type": "code",
   "execution_count": null,
   "id": "a2d8cdf1-dd09-497c-b0b2-3e52e92a5eff",
   "metadata": {},
   "outputs": [],
   "source": []
  },
  {
   "cell_type": "code",
   "execution_count": 38,
   "id": "57d37af6-a188-4993-be3f-14c6067afe83",
   "metadata": {},
   "outputs": [
    {
     "data": {
      "text/plain": [
       "array([[0, 1, 2],\n",
       "       [3, 4, 5],\n",
       "       [6, 7, 8]])"
      ]
     },
     "execution_count": 38,
     "metadata": {},
     "output_type": "execute_result"
    }
   ],
   "source": [
    "arr2 = np.arange(9).reshape(3,3)\n",
    "# 0~8 까지\n",
    "arr2"
   ]
  },
  {
   "cell_type": "code",
   "execution_count": 40,
   "id": "6d99f5e7-f70e-4886-8401-477d70d302f3",
   "metadata": {},
   "outputs": [
    {
     "data": {
      "text/plain": [
       "array([[0, 1, 2],\n",
       "       [3, 4, 5]])"
      ]
     },
     "execution_count": 40,
     "metadata": {},
     "output_type": "execute_result"
    }
   ],
   "source": [
    "arr2[:2]"
   ]
  },
  {
   "cell_type": "code",
   "execution_count": 41,
   "id": "03fc12ae-69a1-4bc2-9e9f-1f9c5a156899",
   "metadata": {},
   "outputs": [
    {
     "name": "stdout",
     "output_type": "stream",
     "text": [
      "인덱싱 :  [0 1 2]\n",
      "슬라이싱 :  [[0 1 2]]\n"
     ]
    }
   ],
   "source": [
    "print('인덱싱 : ',  arr2[0]) # 해당 요소를 가져옴\n",
    "print('슬라이싱 : ', arr2[:1]) #요소들의 배열의 형태로 가져"
   ]
  },
  {
   "cell_type": "code",
   "execution_count": 44,
   "id": "0339966c-8081-472b-b99a-95c5d748e755",
   "metadata": {},
   "outputs": [
    {
     "data": {
      "text/plain": [
       "array([4, 5])"
      ]
     },
     "execution_count": 44,
     "metadata": {},
     "output_type": "execute_result"
    }
   ],
   "source": [
    "# [4,5]를 슬라이싱\n",
    "# 인덱싱 후 슬라이싱\n",
    "arr2[1][1:]"
   ]
  },
  {
   "cell_type": "code",
   "execution_count": 45,
   "id": "640cf878-046b-484a-8ac9-8c283bf3a3bb",
   "metadata": {},
   "outputs": [
    {
     "data": {
      "text/plain": [
       "array([[ 0,  1,  2],\n",
       "       [ 3, 10, 11],\n",
       "       [ 6,  7,  8]])"
      ]
     },
     "execution_count": 45,
     "metadata": {},
     "output_type": "execute_result"
    }
   ],
   "source": [
    "arr2[1][1:] = 10,11\n",
    "arr2"
   ]
  },
  {
   "cell_type": "code",
   "execution_count": null,
   "id": "52b5c0b9-77c4-41ae-a14b-7115802dc516",
   "metadata": {},
   "outputs": [],
   "source": []
  },
  {
   "cell_type": "markdown",
   "id": "950c7631-9daa-4afc-a6a3-559171e1b833",
   "metadata": {},
   "source": [
    "### 2차원 배열에서의 데이터 접근"
   ]
  },
  {
   "cell_type": "code",
   "execution_count": 47,
   "id": "8e63269a-64e6-4eab-8129-6836c41645df",
   "metadata": {},
   "outputs": [
    {
     "data": {
      "text/plain": [
       "array([[ 0,  1,  2,  3,  4,  5,  6,  7,  8,  9],\n",
       "       [10, 11, 12, 13, 14, 15, 16, 17, 18, 19],\n",
       "       [20, 21, 22, 23, 24, 25, 26, 27, 28, 29],\n",
       "       [30, 31, 32, 33, 34, 35, 36, 37, 38, 39],\n",
       "       [40, 41, 42, 43, 44, 45, 46, 47, 48, 49]])"
      ]
     },
     "execution_count": 47,
     "metadata": {},
     "output_type": "execute_result"
    }
   ],
   "source": [
    "# 2차월 배열\n",
    "arr3 = np.arange(50).reshape(5,10)\n",
    "\n",
    "arr3"
   ]
  },
  {
   "cell_type": "code",
   "execution_count": 48,
   "id": "30f0c6ab-4d1b-464c-a0e0-097258a1ade4",
   "metadata": {},
   "outputs": [
    {
     "data": {
      "text/plain": [
       "array([[ 0,  1,  2,  3,  4,  5],\n",
       "       [10, 11, 12, 13, 14, 15]])"
      ]
     },
     "execution_count": 48,
     "metadata": {},
     "output_type": "execute_result"
    }
   ],
   "source": [
    "# arr[행의 범위, 여리 범이] \",\" 행과 열을 구분\n",
    "\n",
    "# 0~1번 행 인덱스0~5번 열 인덱스\n",
    "\n",
    "arr3[:2, :6]"
   ]
  },
  {
   "cell_type": "code",
   "execution_count": null,
   "id": "6012b94b-7348-4e5f-84d6-d7e16e4bc568",
   "metadata": {},
   "outputs": [],
   "source": []
  },
  {
   "cell_type": "code",
   "execution_count": 49,
   "id": "89147037-e2f0-406c-ae1b-e1dcaa1f5e40",
   "metadata": {},
   "outputs": [
    {
     "data": {
      "text/plain": [
       "array([ 0, 10, 20, 30, 40])"
      ]
     },
     "execution_count": 49,
     "metadata": {},
     "output_type": "execute_result"
    }
   ],
   "source": [
    "# 모든 행의 0번 열\n",
    "\n",
    "arr3[: , 0]"
   ]
  },
  {
   "attachments": {
    "468c57f5-be59-4af0-bbb2-8beda3441a0c.png": {
     "image/png": "[encoded data removed]"
    }
   },
   "cell_type": "markdown",
   "id": "b3a991ec-bace-42b5-a687-407cca8da524",
   "metadata": {},
   "source": [
    "![image.png](attachment:468c57f5-be59-4af0-bbb2-8beda3441a0c.png)"
   ]
  },
  {
   "cell_type": "code",
   "execution_count": 58,
   "id": "ea6f5786-031c-4ccd-b48c-b8eecc793844",
   "metadata": {},
   "outputs": [
    {
     "data": {
      "text/plain": [
       "array([ 0, 30])"
      ]
     },
     "execution_count": 58,
     "metadata": {},
     "output_type": "execute_result"
    }
   ],
   "source": [
    "#행 범위릐 생략된 부분을 적어보자 !!!!!!!!!!!!!!!!!!!!!!!!!!!!!!!!!!!!\n",
    "\n",
    "arr3[0:5:3 , 0]\n",
    "\n",
    "# 0 부터 5 까지 슬라이싱\n",
    "# 증감량 1일 경우 생략 가능"
   ]
  },
  {
   "cell_type": "code",
   "execution_count": 55,
   "id": "d5b9de56-729c-46fe-bd4f-f2e153d1b013",
   "metadata": {},
   "outputs": [
    {
     "data": {
      "text/plain": [
       "array([ 0, 20, 40])"
      ]
     },
     "execution_count": 55,
     "metadata": {},
     "output_type": "execute_result"
    }
   ],
   "source": [
    "arr3[::2, 0]"
   ]
  },
  {
   "cell_type": "code",
   "execution_count": null,
   "id": "2397da3c-c32e-41a0-a24c-29d6e77d8873",
   "metadata": {},
   "outputs": [],
   "source": []
  },
  {
   "cell_type": "markdown",
   "id": "db3b7cf4-cb5c-4961-af37-4acd8c93dfb8",
   "metadata": {},
   "source": [
    "### 예제\n"
   ]
  },
  {
   "attachments": {
    "376d3e3d-e098-4f08-92df-cab9cf258dc8.png": {
     "image/png": "[encoded data removed]"
    }
   },
   "cell_type": "markdown",
   "id": "91e63a7f-2d2c-46c6-8bdd-984d2a681919",
   "metadata": {},
   "source": [
    "![image.png](attachment:376d3e3d-e098-4f08-92df-cab9cf258dc8.png)"
   ]
  },
  {
   "cell_type": "code",
   "execution_count": 57,
   "id": "48519d2d-aacd-4c22-b6a8-25aaf5e16ac1",
   "metadata": {},
   "outputs": [
    {
     "data": {
      "text/plain": [
       "array([[ 0,  1,  2,  3,  4,  5],\n",
       "       [ 6,  7,  8,  9, 10, 11],\n",
       "       [12, 13, 14, 15, 16, 17]])"
      ]
     },
     "execution_count": 57,
     "metadata": {},
     "output_type": "execute_result"
    }
   ],
   "source": [
    "arr4 = np.arange(18).reshape(3,6)\n",
    "\n",
    "arr4"
   ]
  },
  {
   "cell_type": "code",
   "execution_count": 73,
   "id": "b9036410-8734-4d8e-a2a9-2dad9c6eb996",
   "metadata": {},
   "outputs": [
    {
     "data": {
      "text/plain": [
       "array([[ 7,  9, 11],\n",
       "       [13, 15, 17]])"
      ]
     },
     "execution_count": 73,
     "metadata": {},
     "output_type": "execute_result"
    }
   ],
   "source": [
    "# [7,9,11],[13,15,17]을 가져온다\n",
    "\n",
    "# 열의 범위를 어떻게 입력할까\n",
    "# 열의 범위 입력 형식은 자유롭다\n",
    "\n",
    "# 열의 범위 : 슬라이싱, 인덱스, 시퀀스\n",
    "\n",
    "\n",
    "arr5 = np.arange(18).reshape(3,6)\n",
    "\n",
    "arr5[1:,1::2]\n"
   ]
  },
  {
   "cell_type": "code",
   "execution_count": 74,
   "id": "bb70ae25-6eb7-4dac-806a-b98eb753230a",
   "metadata": {},
   "outputs": [
    {
     "data": {
      "text/plain": [
       "array([[ 7,  9, 11],\n",
       "       [13, 15, 17]])"
      ]
     },
     "execution_count": 74,
     "metadata": {},
     "output_type": "execute_result"
    }
   ],
   "source": [
    "# 방법 2\n",
    "# 열의 범위를 리스트로 입력\n",
    "arr4[1: , [1,3,5]]"
   ]
  },
  {
   "cell_type": "code",
   "execution_count": 76,
   "id": "de31f337-9dfe-44d0-9643-b133b8d8bc6b",
   "metadata": {},
   "outputs": [
    {
     "data": {
      "text/plain": [
       "array([[ 7,  9, 11],\n",
       "       [13, 15, 17]])"
      ]
     },
     "execution_count": 76,
     "metadata": {},
     "output_type": "execute_result"
    }
   ],
   "source": [
    "# 방법 3\n",
    "\n",
    "arr4[1:, range(1,6,2)]"
   ]
  },
  {
   "cell_type": "code",
   "execution_count": 77,
   "id": "71e6d02e-3518-4060-98f3-560a209f6de3",
   "metadata": {},
   "outputs": [
    {
     "data": {
      "text/plain": [
       "array([[ 0,  1,  2,  3,  4,  5],\n",
       "       [ 6,  7,  8,  9, 10, 11],\n",
       "       [12, 13, 14, 15, 16, 17]])"
      ]
     },
     "execution_count": 77,
     "metadata": {},
     "output_type": "execute_result"
    }
   ],
   "source": [
    "# 전치\n",
    "arr4\n",
    "\n",
    "# 3행 6열"
   ]
  },
  {
   "cell_type": "code",
   "execution_count": 78,
   "id": "4978ff2d-90e3-4f3b-b2e7-4de21bce49a1",
   "metadata": {},
   "outputs": [
    {
     "data": {
      "text/plain": [
       "array([[ 0,  6, 12],\n",
       "       [ 1,  7, 13],\n",
       "       [ 2,  8, 14],\n",
       "       [ 3,  9, 15],\n",
       "       [ 4, 10, 16],\n",
       "       [ 5, 11, 17]])"
      ]
     },
     "execution_count": 78,
     "metadata": {},
     "output_type": "execute_result"
    }
   ],
   "source": [
    "arr4.T\n",
    "\n",
    "# 행과 열을 바꿔주는 함수 (Transposition 전치)"
   ]
  },
  {
   "cell_type": "code",
   "execution_count": 80,
   "id": "91da1c0c-169e-414a-8044-d884eab04647",
   "metadata": {},
   "outputs": [
    {
     "data": {
      "text/plain": [
       "array([[ 0, 10, 20, 30, 40]])"
      ]
     },
     "execution_count": 80,
     "metadata": {},
     "output_type": "execute_result"
    }
   ],
   "source": [
    "arr3[:,0:1].T\n"
   ]
  },
  {
   "cell_type": "code",
   "execution_count": 6,
   "id": "a818bc6d-740a-45ed-b8a6-59c88dabfac6",
   "metadata": {},
   "outputs": [
    {
     "data": {
      "text/plain": [
       "array([70, 84, 65, 71, 52, 83, 87, 54])"
      ]
     },
     "execution_count": 6,
     "metadata": {},
     "output_type": "execute_result"
    }
   ],
   "source": [
    "# 래덤수로 배열 만들기\n",
    "# random.randnt(시작값, 끝값, size)\n",
    "\n",
    "arr5 = np.random.randint(50,100, size=8)\n",
    "# 50에서 99 까지의 8개 값을 가지는 정수 난수 배열 생성\n",
    "# 실행할때마다 값이 바뀜\n",
    "arr5"
   ]
  },
  {
   "cell_type": "code",
   "execution_count": null,
   "id": "d2732a5b-172c-4882-8fc8-97caffba7e69",
   "metadata": {},
   "outputs": [],
   "source": []
  },
  {
   "cell_type": "markdown",
   "id": "326aa70f-0569-42fe-9917-48825dd470cb",
   "metadata": {},
   "source": [
    "### numpy 불리언 (Boolean) 인덱싱\n",
    "- 특정 조건에 맞는 값들을 찾아내고 싶을 때\n",
    "- 사용법 : 인덱스 주소 대신, '조건식'을 입력한다!!!\n"
   ]
  },
  {
   "cell_type": "code",
   "execution_count": 9,
   "id": "4492332a-3ba5-416f-965b-ca90da0c5b63",
   "metadata": {},
   "outputs": [
    {
     "data": {
      "text/plain": [
       "numpy.ndarray"
      ]
     },
     "execution_count": 9,
     "metadata": {},
     "output_type": "execute_result"
    }
   ],
   "source": [
    "type(arr5>=65)\n"
   ]
  },
  {
   "cell_type": "code",
   "execution_count": 8,
   "id": "3632be25-d40e-45b8-83c4-e735cec4c008",
   "metadata": {},
   "outputs": [
    {
     "data": {
      "text/plain": [
       "array([ True,  True,  True,  True, False,  True,  True, False])"
      ]
     },
     "execution_count": 8,
     "metadata": {},
     "output_type": "execute_result"
    }
   ],
   "source": [
    "arr5>=65"
   ]
  },
  {
   "cell_type": "code",
   "execution_count": null,
   "id": "a30a03bc-f6c1-4098-b1fb-489b03168d04",
   "metadata": {},
   "outputs": [],
   "source": []
  },
  {
   "cell_type": "code",
   "execution_count": 11,
   "id": "0456b3a1-6397-4052-a8ac-2915fe3b9f6f",
   "metadata": {},
   "outputs": [
    {
     "data": {
      "text/plain": [
       "array([ True,  True,  True,  True, False,  True, False, False])"
      ]
     },
     "execution_count": 11,
     "metadata": {},
     "output_type": "execute_result"
    }
   ],
   "source": [
    "# 다중 조건\n",
    "# 65 이상이고, 85 이하\n",
    "\n",
    "# numpy에서는 and, or 사용 불가능\n",
    "# numpy에서는 비트연산자 & | 를 사용합니다. numpy 내부코드가 비트연산을 기반으로 만들어짐\n",
    "\n",
    "# & : AND\n",
    "# | : OR\n",
    "\n",
    "(arr5>=65) & (arr5<=85)"
   ]
  },
  {
   "cell_type": "code",
   "execution_count": 12,
   "id": "300a077b-0f98-413e-afc3-1338cdcf7f86",
   "metadata": {},
   "outputs": [
    {
     "data": {
      "text/plain": [
       "array([ True,  True, False, False,  True, False, False,  True])"
      ]
     },
     "execution_count": 12,
     "metadata": {},
     "output_type": "execute_result"
    }
   ],
   "source": [
    "# 짝수 값 판단하는 조건식\n",
    "arr5%2==0"
   ]
  },
  {
   "cell_type": "code",
   "execution_count": 13,
   "id": "ec61e897-e34b-40c5-921a-d91191477279",
   "metadata": {},
   "outputs": [
    {
     "data": {
      "text/plain": [
       "array([70, 84, 52, 54])"
      ]
     },
     "execution_count": 13,
     "metadata": {},
     "output_type": "execute_result"
    }
   ],
   "source": [
    "# True에 해당하는 값들을 가져온다\n",
    "# 인덱싱을 하는데, 인덱스 주소 대신에 조건식을 입력한다\n",
    "\n",
    "arr5[arr5%2==0]"
   ]
  },
  {
   "cell_type": "code",
   "execution_count": 34,
   "id": "ff3f4e52-2cc2-4d5c-8abb-a899fb10f4b5",
   "metadata": {},
   "outputs": [
    {
     "data": {
      "text/plain": [
       "array([[6, 9, 6, 8, 7],\n",
       "       [2, 3, 5, 4, 1]])"
      ]
     },
     "execution_count": 34,
     "metadata": {},
     "output_type": "execute_result"
    }
   ],
   "source": [
    "# 2차원 배열\n",
    "\n",
    "arr6 = np.array([[6,9,6,8,7],\n",
    "                 [2,3,5,4,1]])\n",
    "\n",
    "arr6"
   ]
  },
  {
   "attachments": {
    "d1e61d10-dbe5-40b6-80a0-9297cf37d1bb.png": {
     "image/png": "[encoded data removed]"
    }
   },
   "cell_type": "markdown",
   "id": "65642b97-607f-477b-b9d9-18daf13195d1",
   "metadata": {},
   "source": [
    "![image.png](attachment:d1e61d10-dbe5-40b6-80a0-9297cf37d1bb.png)"
   ]
  },
  {
   "cell_type": "code",
   "execution_count": 35,
   "id": "8b6a7eff-2c3f-4fea-8fcd-9a7004c1d066",
   "metadata": {},
   "outputs": [
    {
     "data": {
      "text/plain": [
       "array([[6, 9, 6, 8, 7],\n",
       "       [2, 3, 5, 4, 1]])"
      ]
     },
     "execution_count": 35,
     "metadata": {},
     "output_type": "execute_result"
    }
   ],
   "source": [
    "arr6"
   ]
  },
  {
   "cell_type": "code",
   "execution_count": 37,
   "id": "d79a2f98-28bc-4544-bfd6-6fe4cb556d2d",
   "metadata": {},
   "outputs": [
    {
     "data": {
      "text/plain": [
       "array([[ True, False,  True,  True, False],\n",
       "       [ True, False, False,  True, False]])"
      ]
     },
     "execution_count": 37,
     "metadata": {},
     "output_type": "execute_result"
    }
   ],
   "source": [
    "arr6%2==0"
   ]
  },
  {
   "cell_type": "code",
   "execution_count": 39,
   "id": "777efc9a-69de-4436-8dc8-ac73a32d045c",
   "metadata": {},
   "outputs": [
    {
     "data": {
      "text/plain": [
       "array([[0, 9, 0, 0, 7],\n",
       "       [0, 3, 5, 0, 1]])"
      ]
     },
     "execution_count": 39,
     "metadata": {},
     "output_type": "execute_result"
    }
   ],
   "source": [
    "arr6[arr6%2==0] = 0\n",
    "\n",
    "arr6"
   ]
  },
  {
   "cell_type": "markdown",
   "id": "8a0271aa-abc9-42a3-b8d7-ef9067e9bcf0",
   "metadata": {},
   "source": [
    "### 합계와 평균을 구하는 함수"
   ]
  },
  {
   "cell_type": "code",
   "execution_count": 41,
   "id": "dd392276-95df-4707-9c38-39de59789453",
   "metadata": {},
   "outputs": [
    {
     "data": {
      "text/plain": [
       "array([[1, 2, 3],\n",
       "       [4, 5, 6]])"
      ]
     },
     "execution_count": 41,
     "metadata": {},
     "output_type": "execute_result"
    }
   ],
   "source": [
    "arr7 = np.array([[1,2,3]\n",
    "                ,[4,5,6]])\n",
    "\n",
    "arr7"
   ]
  },
  {
   "cell_type": "code",
   "execution_count": 43,
   "id": "050b2b04-4da3-4afa-9cc7-6a59666bb384",
   "metadata": {},
   "outputs": [
    {
     "data": {
      "text/plain": [
       "21"
      ]
     },
     "execution_count": 43,
     "metadata": {},
     "output_type": "execute_result"
    }
   ],
   "source": [
    "# 합계\n",
    "# arr.sum()\n",
    "\n",
    "arr7.sum()\n",
    "#배열 객체에 속한 메서드"
   ]
  },
  {
   "cell_type": "code",
   "execution_count": 45,
   "id": "8a78836d-e639-47f7-ab58-af24fa615c62",
   "metadata": {},
   "outputs": [
    {
     "data": {
      "text/plain": [
       "21"
      ]
     },
     "execution_count": 45,
     "metadata": {},
     "output_type": "execute_result"
    }
   ],
   "source": [
    "# np.sum() 넘파이 안에 있는 함수\n",
    "np.sum(arr7)"
   ]
  },
  {
   "cell_type": "code",
   "execution_count": 49,
   "id": "3b97dbe6-4a1a-4620-aed7-97648ed56784",
   "metadata": {},
   "outputs": [
    {
     "name": "stdout",
     "output_type": "stream",
     "text": [
      "21\n",
      "21\n",
      "21\n"
     ]
    }
   ],
   "source": [
    "# np.sum(시퀀스현)\n",
    "print(np.sum(arr7))\n",
    "print(np.sum([1,2,3,4,5,6]))\n",
    "print(np.sum(range(1,7)))"
   ]
  },
  {
   "cell_type": "code",
   "execution_count": null,
   "id": "29cc0cab-6d36-4182-816e-3f9eb092eec1",
   "metadata": {},
   "outputs": [],
   "source": []
  },
  {
   "cell_type": "code",
   "execution_count": 51,
   "id": "cc097cee-182b-45b7-bc7e-1cfa1c071be4",
   "metadata": {},
   "outputs": [
    {
     "data": {
      "text/plain": [
       "3.5"
      ]
     },
     "execution_count": 51,
     "metadata": {},
     "output_type": "execute_result"
    }
   ],
   "source": [
    "# 평균\n",
    "# arr.mean()\n",
    "\n",
    "arr7.mean()\n",
    "# 배열 객체에 속한 메서드"
   ]
  },
  {
   "cell_type": "code",
   "execution_count": 53,
   "id": "bb9f94c1-2d80-4cba-b27e-387cdb950d22",
   "metadata": {},
   "outputs": [
    {
     "name": "stdout",
     "output_type": "stream",
     "text": [
      "3.5\n",
      "3.5\n",
      "3.5\n"
     ]
    }
   ],
   "source": [
    "# np.mean(시퀀스현)\n",
    "print(np.mean(arr7))\n",
    "print(np.mean([1,2,3,4,5,6]))\n",
    "print(np.mean(range(1,7)))"
   ]
  },
  {
   "cell_type": "code",
   "execution_count": null,
   "id": "ee3621f2-ac74-481c-8921-28fdadf1bde9",
   "metadata": {},
   "outputs": [],
   "source": []
  },
  {
   "cell_type": "code",
   "execution_count": null,
   "id": "e80865d5-7423-4d55-a133-2fd296802f36",
   "metadata": {},
   "outputs": [],
   "source": []
  },
  {
   "cell_type": "code",
   "execution_count": null,
   "id": "bc386592-e1c8-4e06-9ff8-34a0df4092cf",
   "metadata": {},
   "outputs": [],
   "source": []
  },
  {
   "cell_type": "code",
   "execution_count": null,
   "id": "614fdb73-bba3-4815-8967-889a4618451c",
   "metadata": {},
   "outputs": [],
   "source": []
  },
  {
   "cell_type": "code",
   "execution_count": null,
   "id": "2cd9032e-4371-4e6d-ae95-970ff7b77b26",
   "metadata": {},
   "outputs": [],
   "source": []
  },
  {
   "cell_type": "code",
   "execution_count": null,
   "id": "68b482c1-a5c4-4d60-adcb-5af7f82ee07e",
   "metadata": {},
   "outputs": [],
   "source": []
  },
  {
   "cell_type": "code",
   "execution_count": null,
   "id": "e3ed409c-82ef-45c8-a293-45e2803396ee",
   "metadata": {},
   "outputs": [],
   "source": []
  },
  {
   "cell_type": "code",
   "execution_count": null,
   "id": "983931c8-963b-40da-bd79-35d282bf36e8",
   "metadata": {},
   "outputs": [],
   "source": []
  },
  {
   "cell_type": "code",
   "execution_count": null,
   "id": "f67f8c15-a0cb-411c-b21c-07d3d1a0278b",
   "metadata": {},
   "outputs": [],
   "source": []
  }
 ],
 "metadata": {
  "kernelspec": {
   "display_name": "Python 3 (ipykernel)",
   "language": "python",
   "name": "python3"
  },
  "language_info": {
   "codemirror_mode": {
    "name": "ipython",
    "version": 3
   },
   "file_extension": ".py",
   "mimetype": "text/x-python",
   "name": "python",
   "nbconvert_exporter": "python",
   "pygments_lexer": "ipython3",
   "version": "3.12.4"
  }
 },
 "nbformat": 4,
 "nbformat_minor": 5
}
