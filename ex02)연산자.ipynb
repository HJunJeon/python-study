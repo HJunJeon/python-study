{
 "cells": [
  {
   "cell_type": "code",
   "execution_count": 1,
   "id": "a6b7a9a5-59b1-4bad-8767-080d03ccd797",
   "metadata": {},
   "outputs": [],
   "source": [
    "# 산술 연산자"
   ]
  },
  {
   "cell_type": "code",
   "execution_count": 1,
   "id": "fb813ed6-0ae2-45b6-876d-ba0a2550c9ee",
   "metadata": {},
   "outputs": [
    {
     "name": "stdout",
     "output_type": "stream",
     "text": [
      "5.0\n",
      "5\n",
      "0\n"
     ]
    }
   ],
   "source": [
    "num1 = 10\n",
    "num2 = 2\n",
    "\n",
    "print(num1 / num2) # 나눈 값\n",
    "print(num1 // num2) # 몫\n",
    "print(num1 % num2) # 나머지"
   ]
  },
  {
   "cell_type": "code",
   "execution_count": 5,
   "id": "d38e2410-ce0a-496a-8114-fed7763e01f9",
   "metadata": {},
   "outputs": [
    {
     "data": {
      "text/plain": [
       "1.43"
      ]
     },
     "execution_count": 5,
     "metadata": {},
     "output_type": "execute_result"
    }
   ],
   "source": [
    "round(num1 / num2, 2) # 소숫점 2째 자리 까지 (반올림)"
   ]
  },
  {
   "cell_type": "code",
   "execution_count": 8,
   "id": "1aa22f92-7d71-4f8f-bd81-aa7ee71750e8",
   "metadata": {},
   "outputs": [
    {
     "name": "stdout",
     "output_type": "stream",
     "text": [
      "전 형준\n",
      "전형준\n"
     ]
    }
   ],
   "source": [
    "# 문자열 덧셈\n",
    "\n",
    "str1 = '전'\n",
    "str2 = '형준'\n",
    "\n",
    "print(str1,str2) # 아웃풋 : 전 형준 (공간이 생김)\n",
    "print(str1+str2) # 아웃풋 : 전형준 (공간 삭제 됨)"
   ]
  },
  {
   "cell_type": "code",
   "execution_count": 10,
   "id": "200034b3-4131-4f3b-8d50-7455957d4adf",
   "metadata": {},
   "outputs": [
    {
     "name": "stdout",
     "output_type": "stream",
     "text": [
      "107\n"
     ]
    }
   ],
   "source": [
    "str1 = '10'\n",
    "str2 = '7'\n",
    "\n",
    "print(str1+str2)"
   ]
  },
  {
   "cell_type": "code",
   "execution_count": 17,
   "id": "93ffab2a-b665-43db-b9a6-71136d3ae14d",
   "metadata": {},
   "outputs": [
    {
     "ename": "TypeError",
     "evalue": "unsupported operand type(s) for +: 'int' and 'str'",
     "output_type": "error",
     "traceback": [
      "\u001b[1;31m---------------------------------------------------------------------------\u001b[0m",
      "\u001b[1;31mTypeError\u001b[0m                                 Traceback (most recent call last)",
      "Cell \u001b[1;32mIn[17], line 6\u001b[0m\n\u001b[0;32m      3\u001b[0m num1 \u001b[38;5;241m=\u001b[39m \u001b[38;5;241m10\u001b[39m\n\u001b[0;32m      4\u001b[0m str2 \u001b[38;5;241m=\u001b[39m \u001b[38;5;124m'\u001b[39m\u001b[38;5;124m7\u001b[39m\u001b[38;5;124m'\u001b[39m\n\u001b[1;32m----> 6\u001b[0m \u001b[38;5;28mprint\u001b[39m(num1 \u001b[38;5;241m+\u001b[39m str2)\n",
      "\u001b[1;31mTypeError\u001b[0m: unsupported operand type(s) for +: 'int' and 'str'"
     ]
    }
   ],
   "source": [
    "# 숫자와 문자열의 덧셈\n",
    "\n",
    "num1 = 10\n",
    "str2 = '7'\n",
    "\n",
    "print(num1 + str2)"
   ]
  },
  {
   "cell_type": "code",
   "execution_count": 19,
   "id": "09fbf5be-b88f-4e1b-9436-810427e2514c",
   "metadata": {},
   "outputs": [
    {
     "data": {
      "text/plain": [
       "17"
      ]
     },
     "execution_count": 19,
     "metadata": {},
     "output_type": "execute_result"
    }
   ],
   "source": [
    "# 숫자끼리 더하기\n",
    "\n",
    "num1 + int(str2) # str2를 정수형으로 변환"
   ]
  },
  {
   "cell_type": "code",
   "execution_count": 21,
   "id": "db94961c-c446-435b-bac7-7996628b47ee",
   "metadata": {},
   "outputs": [
    {
     "data": {
      "text/plain": [
       "'7'"
      ]
     },
     "execution_count": 21,
     "metadata": {},
     "output_type": "execute_result"
    }
   ],
   "source": [
    "str2"
   ]
  },
  {
   "cell_type": "code",
   "execution_count": 22,
   "id": "079127c5-15da-4ca7-8182-8d54083cacc4",
   "metadata": {},
   "outputs": [
    {
     "data": {
      "text/plain": [
       "'107'"
      ]
     },
     "execution_count": 22,
     "metadata": {},
     "output_type": "execute_result"
    }
   ],
   "source": [
    "# 문자끼리 더하기\n",
    "str(num1) + str2"
   ]
  },
  {
   "cell_type": "code",
   "execution_count": 35,
   "id": "bb76496a-d4ce-461e-b512-6bc44047b222",
   "metadata": {},
   "outputs": [
    {
     "name": "stdin",
     "output_type": "stream",
     "text": [
      "첫번째 수 입력 :  10\n",
      "첫번째 수 입력 :  5\n"
     ]
    },
    {
     "name": "stdout",
     "output_type": "stream",
     "text": [
      "더하기 결과 :  15\n",
      "빼기 결과 :  5\n",
      "곱하기 결과 :  50\n",
      "나누기 결과 :  2.0\n"
     ]
    }
   ],
   "source": [
    "# input을 사용해서 사용자에게서 값을 입력 받음\n",
    "\n",
    "num1 = input('첫번째 수 입력 : ')\n",
    "num2 = input('첫번째 수 입력 : ')\n",
    "\n",
    "print('더하기 결과 : ' , int(num1)+int(num2))\n",
    "print('빼기 결과 : ' , int(num1)-int(num2))\n",
    "print('곱하기 결과 : ', int(num1)*int(num2))\n",
    "print('나누기 결과 : ',int(num1)/int(num2))"
   ]
  },
  {
   "cell_type": "code",
   "execution_count": 39,
   "id": "3076e5d2-73c8-4a89-bc4d-19769c461eca",
   "metadata": {},
   "outputs": [
    {
     "name": "stdin",
     "output_type": "stream",
     "text": [
      "첫번째 수 입력 :  5\n",
      "첫번째 수 입력 :  5\n"
     ]
    },
    {
     "name": "stdout",
     "output_type": "stream",
     "text": [
      "더하기 결과 :  {10} \t 빼기 결과 :  {0} 곱하기 결과 :  {25} 나누기 결과 :  {1.0}\n"
     ]
    }
   ],
   "source": [
    "num1 = input('첫번째 수 입력 : ')\n",
    "num2 = input('첫번째 수 입력 : ')\n",
    "\n",
    "plus = int(num1)+int(num2)\n",
    "minus = int(num1)-int(num2)\n",
    "times = int(num1)*int(num2)\n",
    "divide = int(num1)/int(num2)\n",
    "\n",
    "print('더하기 결과 : ' , {plus} , '\\t 빼기 결과 : ' , {minus} , '곱하기 결과 : ' , {times} , '나누기 결과 : ' , {divide} , )"
   ]
  },
  {
   "cell_type": "code",
   "execution_count": 62,
   "id": "5c652ece-24ca-4bd5-b36c-07b1d2a7451b",
   "metadata": {},
   "outputs": [
    {
     "name": "stdin",
     "output_type": "stream",
     "text": [
      "시간 입력 >>  5555\n"
     ]
    },
    {
     "name": "stdout",
     "output_type": "stream",
     "text": [
      "1시간 32분 35초\n"
     ]
    }
   ],
   "source": [
    "# 초를 입력받아 \"00시간 00분 00초\" 형태로 출력\n",
    "\n",
    "time = int(input(\"시간 입력 >> \"))\n",
    "# 7533 초\n",
    "hour = time//3600 # time을 3600으로 나눈 몫 = 2시간\n",
    "\n",
    "# 시간으로 빠진 부분 제외, 남은 초를 계산하자\n",
    "# 7533 - (3600*2) = 333초!! 60초 = 1분 333초를 60으로 나눈 몫\n",
    "minute = time%3600//60  # 몫 = 5 \n",
    "\n",
    "# 초\n",
    "# (분)으로 빠진 부분도 제외, 남은 초\n",
    "# 333 - (60*5) = 33초!, 333을 60으로 나눈 나머지 ->33\n",
    "# 방법 1 : second = (time%3600)%60 \n",
    "second = time % 60\n",
    "print(\"{}시간 {}분 {}초\".format(hour, minute, second))"
   ]
  },
  {
   "cell_type": "code",
   "execution_count": 67,
   "id": "5389c9e5-ba24-450e-a89c-5b4fd44c9382",
   "metadata": {},
   "outputs": [
    {
     "name": "stdout",
     "output_type": "stream",
     "text": [
      "*****"
     ]
    }
   ],
   "source": [
    "# 문자열 곱하기(반복문 사용)\n",
    "for i in range(5):\n",
    "        print('*', end='')"
   ]
  },
  {
   "cell_type": "code",
   "execution_count": 71,
   "id": "5f9a33de-79d8-4fd6-9ca8-eb3807387bd6",
   "metadata": {},
   "outputs": [
    {
     "name": "stdout",
     "output_type": "stream",
     "text": [
      "*****\n",
      "안녕 안녕 안녕 안녕 안녕 \n"
     ]
    }
   ],
   "source": [
    "# 문자열 곱하기 (반복문 사용 x)\n",
    "print('*'*5)\n",
    "print('안녕 '*5)"
   ]
  },
  {
   "cell_type": "code",
   "execution_count": 78,
   "id": "a2e13478-8a1f-4631-980a-38a9e29335c0",
   "metadata": {},
   "outputs": [
    {
     "name": "stdin",
     "output_type": "stream",
     "text": [
      "정수 입력 :  3\n",
      "지수 입력 :  4\n"
     ]
    },
    {
     "name": "stdout",
     "output_type": "stream",
     "text": [
      "3의 4은 81입니다.\n"
     ]
    }
   ],
   "source": [
    "# 지수 연산자 \n",
    "num = int(input('정수 입력 : '))\n",
    "power = int(input('지수 입력 : '))\n",
    "print(f'{num}의 {power}은 {num**power}입니다.')"
   ]
  },
  {
   "cell_type": "code",
   "execution_count": 80,
   "id": "f94d114e-d324-401f-a312-4aeb92a5ebd8",
   "metadata": {},
   "outputs": [
    {
     "name": "stdout",
     "output_type": "stream",
     "text": [
      "a 30\n",
      "b 50\n"
     ]
    }
   ],
   "source": [
    "#  a 변수에 저장된 값과 b 변수에 저장된 값을 바꿔보자\n",
    "\n",
    "a = 30\n",
    "b= 50\n",
    "\n",
    "# a 값과 b의 값을 바꾸는 코드\n",
    "\n",
    "print('a', a)\n",
    "print('b',b)"
   ]
  },
  {
   "cell_type": "code",
   "execution_count": 83,
   "id": "b0f74f67-ab7f-49b9-b0bd-65b74b7156f4",
   "metadata": {},
   "outputs": [
    {
     "data": {
      "text/plain": [
       "False"
      ]
     },
     "execution_count": 83,
     "metadata": {},
     "output_type": "execute_result"
    }
   ],
   "source": [
    "# 비교 연산자\n",
    "## - 조건식 사용시 불리언 값을 변환 (True, False)\n",
    "\n",
    "3>5"
   ]
  },
  {
   "cell_type": "code",
   "execution_count": 87,
   "id": "0a26c9f6-0767-4d2b-89c5-0693736e1b96",
   "metadata": {},
   "outputs": [
    {
     "name": "stdout",
     "output_type": "stream",
     "text": [
      "False\n",
      "False\n",
      "False\n",
      "True\n",
      "True\n",
      "True\n",
      "True\n",
      "False\n"
     ]
    }
   ],
   "source": [
    "a = 3\n",
    "b = 7\n",
    "\n",
    "print(a > b)\n",
    "print(a >= b)\n",
    "print(a == b) # =는 대입 연산자, ==는 비교연산자\n",
    "print(a != b)\n",
    "\n",
    "#논리연산자 not : 논리값을 뒤집음\n",
    "print(not a > b)\n",
    "print(not a >= b)\n",
    "print(not a == b) # =는 대입 연산자, ==는 비교연산자\n",
    "print(not a != b)"
   ]
  },
  {
   "cell_type": "code",
   "execution_count": 89,
   "id": "9e225538-ee1f-4085-8e21-2fcb03f42321",
   "metadata": {},
   "outputs": [
    {
     "data": {
      "text/plain": [
       "True"
      ]
     },
     "execution_count": 89,
     "metadata": {},
     "output_type": "execute_result"
    }
   ],
   "source": [
    "### 논리연산자 and , or\n",
    "# - and : 모두 true면 true\n",
    "# - or : 어느 하나라도 True면 True\n",
    "\n",
    "\n"
   ]
  },
  {
   "cell_type": "code",
   "execution_count": 91,
   "id": "b6229494-04b1-4bbc-9b75-b4ca54aba205",
   "metadata": {},
   "outputs": [
    {
     "data": {
      "text/plain": [
       "False"
      ]
     },
     "execution_count": 91,
     "metadata": {},
     "output_type": "execute_result"
    }
   ],
   "source": [
    "5>3 and 1>3"
   ]
  },
  {
   "cell_type": "code",
   "execution_count": 90,
   "id": "dba31816-1450-4dc2-8e25-023e23a505b6",
   "metadata": {},
   "outputs": [
    {
     "data": {
      "text/plain": [
       "True"
      ]
     },
     "execution_count": 90,
     "metadata": {},
     "output_type": "execute_result"
    }
   ],
   "source": [
    "5>3 or 1>3"
   ]
  },
  {
   "cell_type": "code",
   "execution_count": 92,
   "id": "8fa94efd-472b-427e-b5a2-857b54f7af14",
   "metadata": {},
   "outputs": [],
   "source": [
    "### "
   ]
  },
  {
   "cell_type": "code",
   "execution_count": null,
   "id": "b58f591f-64ea-4b4b-86a8-2c42b232ea68",
   "metadata": {},
   "outputs": [],
   "source": []
  },
  {
   "cell_type": "markdown",
   "id": "f3c5ae8f-83b3-417a-91fa-8f209c02f803",
   "metadata": {},
   "source": [
    "### 상황연산자 \n",
    "- 조건문의 단순화\n",
    "- a if 조건식 else b\n",
    "  \n"
   ]
  },
  {
   "cell_type": "code",
   "execution_count": 94,
   "id": "658f224a-1d28-4f10-a9c1-0d5a86f9b828",
   "metadata": {},
   "outputs": [
    {
     "name": "stdin",
     "output_type": "stream",
     "text": [
      "자바 예상 점수 :  60\n"
     ]
    },
    {
     "data": {
      "text/plain": [
       "'합격'"
      ]
     },
     "execution_count": 94,
     "metadata": {},
     "output_type": "execute_result"
    }
   ],
   "source": [
    "# 예시\n",
    "java_score = int(input('자바 예상 점수 : '))\n",
    "\n",
    "'합격' if java_score >= 60 else '불합격'\n",
    "# 합격이다. 만약에 자바 점수가 60 이상이면, 그렇지 않으면 불합격이다."
   ]
  },
  {
   "cell_type": "code",
   "execution_count": null,
   "id": "2bc36e98-6ff2-4df9-aaf9-281866e3a1a9",
   "metadata": {},
   "outputs": [],
   "source": []
  },
  {
   "cell_type": "code",
   "execution_count": 105,
   "id": "f9b1731a-6401-4f49-9e42-d52bafa36a19",
   "metadata": {},
   "outputs": [
    {
     "name": "stdin",
     "output_type": "stream",
     "text": [
      "정수입력 >> 3\n",
      "정수입력 >> 5\n"
     ]
    },
    {
     "name": "stdout",
     "output_type": "stream",
     "text": [
      "b:  5\n"
     ]
    }
   ],
   "source": [
    "a = int(input(\"정수입력 >>\"))\n",
    "b = int(input(\"정수입력 >>\"))\n",
    "\n",
    "print('a: ', int(a)) if a > b else print('b: ' ,int(b))"
   ]
  },
  {
   "cell_type": "code",
   "execution_count": null,
   "id": "230b0df3-c86e-49ce-8249-94221d967f2b",
   "metadata": {},
   "outputs": [],
   "source": []
  },
  {
   "cell_type": "code",
   "execution_count": null,
   "id": "5f46a277-4e7a-467e-83ab-d745e3ec7f85",
   "metadata": {},
   "outputs": [],
   "source": [
    "### 키보드로 정수를 입력 받아서 홀, 짝 구분하기\n",
    "\n",
    "ans = int(input('정수 입력 >>'))\n",
    "\n",
    "#even = int(ans%2==0)\n",
    "#odd = int(ans%2==1)\n",
    "\n",
    "print(ans, ' 는(은) 짝수입니다')if ans%2==1 else print(ans, '는(은) 홀수입니다')"
   ]
  },
  {
   "cell_type": "code",
   "execution_count": null,
   "id": "c2ef265c-af91-4f4a-80c4-686af1a9becf",
   "metadata": {},
   "outputs": [],
   "source": []
  }
 ],
 "metadata": {
  "kernelspec": {
   "display_name": "Python 3 (ipykernel)",
   "language": "python",
   "name": "python3"
  },
  "language_info": {
   "codemirror_mode": {
    "name": "ipython",
    "version": 3
   },
   "file_extension": ".py",
   "mimetype": "text/x-python",
   "name": "python",
   "nbconvert_exporter": "python",
   "pygments_lexer": "ipython3",
   "version": "3.12.4"
  }
 },
 "nbformat": 4,
 "nbformat_minor": 5
}
